{
 "cells": [
  {
   "cell_type": "markdown",
   "metadata": {},
   "source": [
    "# The Incidence of Downward Mobility: Evidence from Chicago "
   ]
  },
  {
   "cell_type": "markdown",
   "metadata": {},
   "source": [
    "#### Code Author: Yizhou Zhang, Ph.D. candidate in Agricultural & Consumer Economics, Univ of Illinois at Urbana-Champaign"
   ]
  },
  {
   "cell_type": "markdown",
   "metadata": {},
   "source": [
    "__Abstract__: Gentrification is the socio-economic upgrade experienced by less advantaged neighborhoods. Previous research suggests that  gentrification is associated with the downward movement of long-term , incumbent residents in the gentrifying neighborhoods. This means that if a household moved out from gentrifying neighborhoods, it tends to move to communities with lower socio-economic status than the origin neighborhood with lower median family income and lower average housing values. This paper further investigates if such gentrification-related downward movement had happened in Chicago between 2010-2015, and if gentrification has a greater incidence on renters than on homeowners. I aim to answer the following empirical questions: "
   ]
  },
  {
   "cell_type": "markdown",
   "metadata": {},
   "source": [
    "1. Are migrants from gentrifying neighborhoods more likely to experience downward mobility than their counterparts from non-gentrifying neighborhoods? \n",
    "\n",
    "2. Regardless of a neighborhood’s gentrification status, are renter migrants in general more likely to move to lower-income neighborhoods than owner migrants?\n",
    "\n",
    "3. If the answer to question 2) is yes, is the owner-renter downward incidence gap greater in gentrifying neighborhoods than in non-gentrifying neighborhoods?\n",
    "\n",
    "4. Do the outcomes differ by the intensity of gentrification of a neighborhood?   "
   ]
  },
  {
   "cell_type": "code",
   "execution_count": 1,
   "metadata": {
    "collapsed": true
   },
   "outputs": [],
   "source": [
    "import pandas as pd\n",
    "import statsmodels.formula.api as smf\n",
    "from statsmodels.iolib.summary2 import summary_col\n",
    "from stargazer.stargazer import Stargazer\n",
    "from IPython.core.display import display, HTML\n",
    "pd.options.mode.chained_assignment = None  # default='warn'\n",
    "import numpy as np"
   ]
  },
  {
   "cell_type": "markdown",
   "metadata": {},
   "source": [
    "## Data Preparation and Description"
   ]
  },
  {
   "cell_type": "markdown",
   "metadata": {},
   "source": [
    "Use the American Community Survey (ACS) data between 2010-2016 to identify which census tracts gentrified between 2010-2015. The data is already downloaded. "
   ]
  },
  {
   "cell_type": "code",
   "execution_count": 2,
   "metadata": {
    "collapsed": true
   },
   "outputs": [],
   "source": [
    "ACS1016 =  pd.read_csv(\"C:/Users/Max/Google Drive/My Research/Chicago Crime-Migration/data/ACS1016.csv\")\n",
    "\n",
    "# Create a new column named \"MergeID\" such that the table can be joined. THe MergeID is a concatination of \"Year\" and \"GEOID\"\n",
    "ACS1016['MergeID'] =  ACS1016[\"Year\"].apply(int).apply(str) +  ACS1016[\"GEOID\"].apply(int).apply(str)\n",
    "\n",
    "# drop the first column that is redundant\n",
    "ACS1016 = ACS1016.drop(ACS1016.columns[0], 1)"
   ]
  },
  {
   "cell_type": "code",
   "execution_count": 3,
   "metadata": {
    "scrolled": true
   },
   "outputs": [
    {
     "data": {
      "text/html": [
       "<div>\n",
       "<style>\n",
       "    .dataframe thead tr:only-child th {\n",
       "        text-align: right;\n",
       "    }\n",
       "\n",
       "    .dataframe thead th {\n",
       "        text-align: left;\n",
       "    }\n",
       "\n",
       "    .dataframe tbody tr th {\n",
       "        vertical-align: top;\n",
       "    }\n",
       "</style>\n",
       "<table border=\"1\" class=\"dataframe\">\n",
       "  <thead>\n",
       "    <tr style=\"text-align: right;\">\n",
       "      <th></th>\n",
       "      <th>GEOID</th>\n",
       "      <th>under24</th>\n",
       "      <th>A2549</th>\n",
       "      <th>A5061</th>\n",
       "      <th>A62more</th>\n",
       "      <th>TotPop</th>\n",
       "      <th>MHHI</th>\n",
       "      <th>EDU</th>\n",
       "      <th>P_Own</th>\n",
       "      <th>pct_Built20y</th>\n",
       "      <th>MHV</th>\n",
       "      <th>MGR</th>\n",
       "      <th>Less10k</th>\n",
       "      <th>I10k_20k</th>\n",
       "      <th>more20k</th>\n",
       "      <th>TotRsp</th>\n",
       "      <th>Year</th>\n",
       "      <th>MergeID</th>\n",
       "    </tr>\n",
       "  </thead>\n",
       "  <tbody>\n",
       "    <tr>\n",
       "      <th>0</th>\n",
       "      <td>17001000100</td>\n",
       "      <td>0.261459</td>\n",
       "      <td>0.327954</td>\n",
       "      <td>0.148268</td>\n",
       "      <td>0.262320</td>\n",
       "      <td>4647</td>\n",
       "      <td>40114.0</td>\n",
       "      <td>0.178179</td>\n",
       "      <td>0.864256</td>\n",
       "      <td>0.883983</td>\n",
       "      <td>96900.0</td>\n",
       "      <td>587.0</td>\n",
       "      <td>0.060122</td>\n",
       "      <td>0.101926</td>\n",
       "      <td>0.837952</td>\n",
       "      <td>2129</td>\n",
       "      <td>2010</td>\n",
       "      <td>201017001000100</td>\n",
       "    </tr>\n",
       "    <tr>\n",
       "      <th>1</th>\n",
       "      <td>17001000201</td>\n",
       "      <td>0.334850</td>\n",
       "      <td>0.299818</td>\n",
       "      <td>0.181074</td>\n",
       "      <td>0.184258</td>\n",
       "      <td>2198</td>\n",
       "      <td>41356.0</td>\n",
       "      <td>0.109190</td>\n",
       "      <td>0.800712</td>\n",
       "      <td>0.870700</td>\n",
       "      <td>79800.0</td>\n",
       "      <td>657.0</td>\n",
       "      <td>0.087782</td>\n",
       "      <td>0.098458</td>\n",
       "      <td>0.813760</td>\n",
       "      <td>843</td>\n",
       "      <td>2010</td>\n",
       "      <td>201017001000201</td>\n",
       "    </tr>\n",
       "    <tr>\n",
       "      <th>2</th>\n",
       "      <td>17001000202</td>\n",
       "      <td>0.503276</td>\n",
       "      <td>0.261778</td>\n",
       "      <td>0.138222</td>\n",
       "      <td>0.096724</td>\n",
       "      <td>3205</td>\n",
       "      <td>44076.0</td>\n",
       "      <td>0.130421</td>\n",
       "      <td>0.775216</td>\n",
       "      <td>0.974063</td>\n",
       "      <td>85100.0</td>\n",
       "      <td>624.0</td>\n",
       "      <td>0.097983</td>\n",
       "      <td>0.060519</td>\n",
       "      <td>0.841499</td>\n",
       "      <td>1041</td>\n",
       "      <td>2010</td>\n",
       "      <td>201017001000202</td>\n",
       "    </tr>\n",
       "    <tr>\n",
       "      <th>3</th>\n",
       "      <td>17001000400</td>\n",
       "      <td>0.328177</td>\n",
       "      <td>0.261878</td>\n",
       "      <td>0.149613</td>\n",
       "      <td>0.260331</td>\n",
       "      <td>4525</td>\n",
       "      <td>24230.0</td>\n",
       "      <td>0.057017</td>\n",
       "      <td>0.547820</td>\n",
       "      <td>0.856864</td>\n",
       "      <td>52800.0</td>\n",
       "      <td>555.0</td>\n",
       "      <td>0.111906</td>\n",
       "      <td>0.303839</td>\n",
       "      <td>0.584255</td>\n",
       "      <td>1537</td>\n",
       "      <td>2010</td>\n",
       "      <td>201017001000400</td>\n",
       "    </tr>\n",
       "    <tr>\n",
       "      <th>4</th>\n",
       "      <td>17001000500</td>\n",
       "      <td>0.364100</td>\n",
       "      <td>0.313703</td>\n",
       "      <td>0.159117</td>\n",
       "      <td>0.163080</td>\n",
       "      <td>1766</td>\n",
       "      <td>31583.0</td>\n",
       "      <td>0.107022</td>\n",
       "      <td>0.614966</td>\n",
       "      <td>0.952381</td>\n",
       "      <td>67200.0</td>\n",
       "      <td>580.0</td>\n",
       "      <td>0.134694</td>\n",
       "      <td>0.164626</td>\n",
       "      <td>0.700680</td>\n",
       "      <td>735</td>\n",
       "      <td>2010</td>\n",
       "      <td>201017001000500</td>\n",
       "    </tr>\n",
       "  </tbody>\n",
       "</table>\n",
       "</div>"
      ],
      "text/plain": [
       "         GEOID   under24     A2549     A5061   A62more  TotPop     MHHI  \\\n",
       "0  17001000100  0.261459  0.327954  0.148268  0.262320    4647  40114.0   \n",
       "1  17001000201  0.334850  0.299818  0.181074  0.184258    2198  41356.0   \n",
       "2  17001000202  0.503276  0.261778  0.138222  0.096724    3205  44076.0   \n",
       "3  17001000400  0.328177  0.261878  0.149613  0.260331    4525  24230.0   \n",
       "4  17001000500  0.364100  0.313703  0.159117  0.163080    1766  31583.0   \n",
       "\n",
       "        EDU     P_Own  pct_Built20y      MHV    MGR   Less10k  I10k_20k  \\\n",
       "0  0.178179  0.864256      0.883983  96900.0  587.0  0.060122  0.101926   \n",
       "1  0.109190  0.800712      0.870700  79800.0  657.0  0.087782  0.098458   \n",
       "2  0.130421  0.775216      0.974063  85100.0  624.0  0.097983  0.060519   \n",
       "3  0.057017  0.547820      0.856864  52800.0  555.0  0.111906  0.303839   \n",
       "4  0.107022  0.614966      0.952381  67200.0  580.0  0.134694  0.164626   \n",
       "\n",
       "    more20k  TotRsp  Year          MergeID  \n",
       "0  0.837952    2129  2010  201017001000100  \n",
       "1  0.813760     843  2010  201017001000201  \n",
       "2  0.841499    1041  2010  201017001000202  \n",
       "3  0.584255    1537  2010  201017001000400  \n",
       "4  0.700680     735  2010  201017001000500  "
      ]
     },
     "execution_count": 3,
     "metadata": {},
     "output_type": "execute_result"
    }
   ],
   "source": [
    "#A preview of the data\n",
    "ACS1016[:5]"
   ]
  },
  {
   "cell_type": "markdown",
   "metadata": {},
   "source": [
    "Explaining the data variables:\n",
    "-  __\"GEOID\"__ is the FIPSCODE of a census tract that could be used as ID.\n",
    "-  __\"under24\"__ to __\"A62more\"__ are the percentages of residents that are in a certain age category.\n",
    "-  __\"TotPop\"__ is total population in the tract in a given year. \n",
    "-  __\"MHHI\"__ is the median household income of a tract,\n",
    "-  __\"EDU\"__ is the % of college-educated residents,\n",
    "-  __\"P_Own\"__ is the % of owners,\n",
    "-  __\"pct_Built20y\"__ is the percentage of housing stocks tha are at least 20 years old.\n",
    "-  __\"MHV\"__ is median housing value in a tract ,\n",
    "-  __\"MGR\"__ is median gross rent in a tract.\n",
    "-  __\"Year\"__ is the year of observation. "
   ]
  },
  {
   "cell_type": "markdown",
   "metadata": {},
   "source": [
    "now extract all observations (census tracts) from the year 2010 and year 2010. Then join the two tables to measure the neighborhood changes between 2010-2015 in key parameters. "
   ]
  },
  {
   "cell_type": "code",
   "execution_count": 4,
   "metadata": {
    "collapsed": true
   },
   "outputs": [],
   "source": [
    "#Extract the year 2010\n",
    "ACS2010 = ACS1016[ACS1016.Year == 2010]\n",
    "ACS2010 = ACS2010.rename(columns={'MHHI':'MHHI_10', 'EDU':'EDU_10','pct_Built20y':'pct_Built20y_10','MHV':'MHV_10','MGR':'MGR_10'})\n",
    "ACS2010 = ACS2010[['GEOID', 'MHHI_10', 'EDU_10','pct_Built20y_10','MHV_10','MGR_10']]\n",
    "\n",
    "\n",
    "# Extract the year 2015\n",
    "ACS2015 = ACS1016[ACS1016.Year == 2015]\n",
    "ACS2015 = ACS2015.rename(columns={'MHHI':'MHHI_15', 'EDU':'EDU_15','pct_Built20y':'pct_Built20y_15',\n",
    "                                  'MHV':'MHV_15','MGR':'MGR_15'})\n",
    "ACS2015 = ACS2015[['GEOID', 'MHHI_15', 'EDU_15','pct_Built20y_15','MHV_15','MGR_15']]"
   ]
  },
  {
   "cell_type": "markdown",
   "metadata": {},
   "source": [
    "<br>"
   ]
  },
  {
   "cell_type": "markdown",
   "metadata": {
    "collapsed": true
   },
   "source": [
    "\n",
    "### Merge two tables _ACS2010_ and _ACS2015_ to calculate characteristics changes"
   ]
  },
  {
   "cell_type": "code",
   "execution_count": 5,
   "metadata": {
    "collapsed": true
   },
   "outputs": [],
   "source": [
    "Gent1015 =  pd.merge(ACS2010, ACS2015, how='inner', on = \"GEOID\")\n",
    "\n",
    "Gent1015 = Gent1015.dropna(axis=0, how='any')\n",
    "\n",
    "# calculate 2010-2015 changes \n",
    "Gent1015['EDU_1015'] = Gent1015.EDU_15 - Gent1015.EDU_10\n",
    "Gent1015['MHHI_1015'] = Gent1015.MHHI_15 / Gent1015.MHHI_10\n",
    "Gent1015['MHV_1015'] = Gent1015.MHV_15 / Gent1015.MHV_10\n",
    "Gent1015['MGR_1015'] = Gent1015.MGR_15 / Gent1015.MGR_10\n",
    "Gent1015['Built_1015'] = Gent1015.pct_Built20y_15 / Gent1015.pct_Built20y_10"
   ]
  },
  {
   "cell_type": "markdown",
   "metadata": {},
   "source": [
    "Build a series of flags as criteria of gentrification. In total there are three kinds of neighborhoods: _nongentrifiable_, _gentrifying_, and _nongentrifying_. "
   ]
  },
  {
   "cell_type": "markdown",
   "metadata": {},
   "source": [
    "__gentrifiable__ neighborhoods need to have low socio-economic status in the year 2010. Therefore, \n",
    "\n",
    "__nongentrifiable__ neighborhoods are defined as those in 2010 : \n",
    "-  had a median housing value above the Chicago city-wide median \n",
    "\n",
    "\n",
    "__gentrifying__ neighborhoods are gentrifiable at the beginning of period but also experience: \n",
    "-  its 2010-15 increase in the share of college-educated is above the median increase in an average Chicago neighborhood\n",
    "-  its 2010-15 increase in median family income is above the median increase in an average Chicago neighborhood \n",
    "-  its 2010-15 increase in median housing value is above the median increase in an average Chicago neighborhood\n",
    "\n",
    "In other words, there are three flags that define a _gentrifying_ neighborhood and it must meet all three criteria simultaneously. \n",
    "\n",
    "__nongentrifying__ are those neighborhoods that are _gentrifiable_ but did not meet all or part of the three criteria above. \n"
   ]
  },
  {
   "cell_type": "code",
   "execution_count": 6,
   "metadata": {
    "collapsed": true
   },
   "outputs": [],
   "source": [
    "\n",
    "# build the indicator flags \n",
    "Gent1015['EDU_Flag'] = Gent1015.EDU_1015.map(lambda x : 1 if x > Gent1015.EDU_1015.quantile(0.5) else 0)\n",
    "\n",
    "\n",
    "Gent1015['MHHI_Flag'] = Gent1015.MHHI_1015.map(lambda x : 1 if x > Gent1015.MHHI_1015.quantile(0.5) else 0)\n",
    "\n",
    "\n",
    "Gent1015['MHV_Flag'] = Gent1015.MHV_1015.map(lambda x : 1 if x > Gent1015.MHV_1015.quantile(0.5) else 0)\n",
    "\n",
    "# find the gentrifiable tracts , and gentrified tracts \n",
    "\n",
    "\n",
    "Gent1015['gent_able'] = Gent1015.MHV_10.map(lambda x : 1 if x < Gent1015.MHV_10.quantile(0.5) else 0)\n",
    "\n",
    "Gent1015['gented'] = Gent1015.EDU_Flag * Gent1015.MHV_Flag  * Gent1015.gent_able\n",
    "\n",
    "Gent1015['gent_class'] =  Gent1015.gented + Gent1015.gent_able\n",
    "\n",
    "\n",
    "# Now use replace function to encode\n",
    "Gent1015['gent_class'] = Gent1015.gent_class.replace([0,1,2],[\"nongentrifiable\",\"nongentrified\",\"gentrified\"])\n"
   ]
  },
  {
   "cell_type": "markdown",
   "metadata": {},
   "source": [
    "<br>"
   ]
  },
  {
   "cell_type": "markdown",
   "metadata": {},
   "source": [
    "## Summary Statistics of Census Tracts"
   ]
  },
  {
   "cell_type": "markdown",
   "metadata": {},
   "source": [
    "The next step is summary statistics of table \"Gent1015\" by \"gent_class\""
   ]
  },
  {
   "cell_type": "markdown",
   "metadata": {},
   "source": [
    "First compare neighborhoods' 2010 characterisitics by their gentrification status. The summary statistics is median. "
   ]
  },
  {
   "cell_type": "code",
   "execution_count": 7,
   "metadata": {
    "scrolled": true
   },
   "outputs": [
    {
     "name": "stdout",
     "output_type": "stream",
     "text": [
      "                  MHV_10  MGR_10  EDU_10  MHHI_10\n",
      "gent_class                                       \n",
      "gentrified      100000.0   644.0     0.1  45263.0\n",
      "nongentrifiable 291400.0   958.0     0.2  65838.0\n",
      "nongentrified   121500.0   706.5     0.1  44046.0\n"
     ]
    }
   ],
   "source": [
    "Gent1015 = Gent1015.dropna()\n",
    "\n",
    "a = Gent1015.groupby(\"gent_class\")[['MHV_10','MGR_10','EDU_10',\"MHHI_10\"]].median()\n",
    "\n",
    "print (a.to_string(float_format= lambda x: \"{:.1f}\".format(x) ))"
   ]
  },
  {
   "cell_type": "markdown",
   "metadata": {},
   "source": [
    "The expected result is that the classes \"gentrified\" and \"nongentrified\" are comparable in their 2010 characterisitcs while both are distinct with the class \"nongentrifiable\". The above median comparision meets this expectation. "
   ]
  },
  {
   "cell_type": "markdown",
   "metadata": {},
   "source": [
    "Then compare neighborhoods' 2010-2015 percentage changes in selected characterisitics by their gentrification status. "
   ]
  },
  {
   "cell_type": "code",
   "execution_count": 8,
   "metadata": {
    "scrolled": true
   },
   "outputs": [
    {
     "name": "stdout",
     "output_type": "stream",
     "text": [
      "                 MHV_1015  MGR_1015  MHHI_1015\n",
      "gent_class                                    \n",
      "gentrified          0.03%     0.07%      0.07%\n",
      "nongentrifiable    -0.17%     0.09%      0.03%\n",
      "nongentrified      -0.09%     0.08%      0.02%\n"
     ]
    }
   ],
   "source": [
    "a = Gent1015.groupby(\"gent_class\")[['MHV_1015','MGR_1015',\"MHHI_1015\"]].median() -1\n",
    "\n",
    "print (a.to_string(float_format= lambda x: \"{:.2f}%\".format(x) ))"
   ]
  },
  {
   "cell_type": "markdown",
   "metadata": {},
   "source": [
    "The expectation is that the class \"gentrified\" experienced the greatest positive changes relative to the other two classes. The results above confirms the expectation. "
   ]
  },
  {
   "cell_type": "markdown",
   "metadata": {},
   "source": [
    "<br>"
   ]
  },
  {
   "cell_type": "markdown",
   "metadata": {},
   "source": [
    "## Summary Statistics of Households Characteristics"
   ]
  },
  {
   "cell_type": "markdown",
   "metadata": {},
   "source": [
    "The next step is to __join__ the _mover_ dataset with the _ACS1016_ dataset. In other words, join the longitudinal dataset with information of neighborhood characteristics. The __mover__ dataset contains household level information, including address changes, between 2010 and 2015. "
   ]
  },
  {
   "cell_type": "code",
   "execution_count": 9,
   "metadata": {
    "collapsed": true,
    "scrolled": true
   },
   "outputs": [],
   "source": [
    "mover = pd.read_csv(\"C:/Users/Max/Google Drive/My Research/Chicago Crime-Migration/data/mover.csv\")"
   ]
  },
  {
   "cell_type": "markdown",
   "metadata": {},
   "source": [
    "_YearOnly_ is the current year of observation for the migrant household , therefore, subtract 1 from _YearOnly_ is the year when the household left the previous census tract. _PrevGEOID_ is the FIPSCODE of the origin census tract. Concatenating the two information generates a new variable \"Prev_MergeID\" that will be the basis of joining. "
   ]
  },
  {
   "cell_type": "code",
   "execution_count": 10,
   "metadata": {
    "collapsed": true,
    "scrolled": true
   },
   "outputs": [],
   "source": [
    "\n",
    "mover['Prev_MergeID'] = (mover.YearOnly -1).apply(int).apply(str) + mover.PrevGEOID.apply(int).apply(str)\n"
   ]
  },
  {
   "cell_type": "markdown",
   "metadata": {},
   "source": [
    "Create a copy of the __ACS1016__ dataset named __Prev_Charac__ such that it could be joined with __mover__ dataset later. "
   ]
  },
  {
   "cell_type": "code",
   "execution_count": 11,
   "metadata": {
    "collapsed": true,
    "scrolled": true
   },
   "outputs": [],
   "source": [
    "\n",
    "Prev_Charac = ACS1016[['MHV','MHHI','MergeID']]\n",
    "Prev_Charac.shape\n",
    "Prev_Charac =  Prev_Charac.rename(columns= {'MHV':\"PrevMHV\", 'MHHI':\"PrevMHHI\"})"
   ]
  },
  {
   "cell_type": "markdown",
   "metadata": {},
   "source": [
    "Now merge the __mover__ dataset with __Prev_Charac__ to acquire information of the mover household's origin neighborhood. Then join again with the __Gent1015__ dataset to have the gentrification status of the origin neighborhood. "
   ]
  },
  {
   "cell_type": "code",
   "execution_count": 12,
   "metadata": {
    "collapsed": true
   },
   "outputs": [],
   "source": [
    "\n",
    "mover_prev =  pd.merge(mover, Prev_Charac, how='inner',left_on= \"Prev_MergeID\", right_on =\"MergeID\"  )\n",
    "mover_gent = pd.merge(mover_prev, Gent1015, how='inner',left_on= \"PrevGEOID\", right_on =\"GEOID\"  )"
   ]
  },
  {
   "cell_type": "markdown",
   "metadata": {},
   "source": [
    "Now create the binary indicator of downward movement. If the househodl moved into a new neighborhood where median family income is lower than its origin neighborhood, then it is called a \"downward movement\". __\"Move_MHHIdiff\"__ is the ratio of destination median family income over origin's median family income. If it is lower than 1, then we say a \"downward movement\" occur, as recorded by the variable __MHHIdown__.  __\"FIND_DIV_1000\"__ is the variable of family wealth in dollars. "
   ]
  },
  {
   "cell_type": "code",
   "execution_count": 13,
   "metadata": {
    "collapsed": true,
    "scrolled": true
   },
   "outputs": [],
   "source": [
    "\n",
    "mover_gent[\"Move_MHHIdiff\"] =  mover_gent.MHHI / mover_gent.PrevMHHI\n",
    "mover_gent['MHHIdown'] = mover_gent.Move_MHHIdiff.map(lambda x:  1 if x <1 else 0)\n",
    "mover_gent = mover_gent.dropna()"
   ]
  },
  {
   "cell_type": "code",
   "execution_count": 14,
   "metadata": {},
   "outputs": [
    {
     "name": "stdout",
     "output_type": "stream",
     "text": [
      "                 FIND_DIV_1000  Move_MHHIdiff  MHHIdown\n",
      "gent_class                                             \n",
      "gentrified            76307.63           1.51      0.21\n",
      "nongentrifiable      112498.43           1.17      0.42\n",
      "nongentrified         69456.89           1.43      0.23\n"
     ]
    }
   ],
   "source": [
    "a = mover_gent.groupby(\"gent_class\")[['FIND_DIV_1000','Move_MHHIdiff',\"MHHIdown\",]].mean()\n",
    "\n",
    "print (a.to_string(float_format= lambda x: \"{:.2f}\".format(x) ))\n",
    "    "
   ]
  },
  {
   "cell_type": "markdown",
   "metadata": {},
   "source": [
    "<br>\n",
    "The expectation was that households moving from _gentrified_ neighborhoods are comparable to households moving from _nongentrified_ neighborhoods in household characteristics, and either of them is distinct with households moving from _nongentrifiable_ neighborhoods. The comparison table confirms this expectation. \n",
    "<br>\n",
    "<br>"
   ]
  },
  {
   "cell_type": "code",
   "execution_count": 15,
   "metadata": {
    "scrolled": false
   },
   "outputs": [
    {
     "name": "stdout",
     "output_type": "stream",
     "text": [
      "                 OWNER_RENTER_STATUS_Owner  OWNER_RENTER_STATUS_Renter\n",
      "Gent_Status                                                           \n",
      "gentrified                            0.73                        0.27\n",
      "nongentrifiable                       0.84                        0.16\n",
      "nongentrified                         0.76                        0.24\n"
     ]
    }
   ],
   "source": [
    "cat_mover =  pd.get_dummies(mover_gent.loc[:,['OWNER_RENTER_STATUS']])\n",
    "\n",
    "cat_mover['Gent_Status'] = mover_gent.gent_class\n",
    "\n",
    "a = cat_mover.groupby(\"Gent_Status\").mean()\n",
    "print(a.to_string(float_format= lambda x: \"{:.2f}\".format(x) ))"
   ]
  },
  {
   "cell_type": "markdown",
   "metadata": {},
   "source": [
    "<br>\n",
    "The numbers in the above table are the ratios of renter/owner of movers from each type of neighborhood. Again, the table shows that households moving from _gentrified_ neighborhoods are comprable with households moving from _nongentrified_ neighborhoods in terms of owner/renter composition. However, neither is comparable with households from _nongentrifiable_ neighborhoods.\n",
    "<br>\n",
    "<br>"
   ]
  },
  {
   "cell_type": "markdown",
   "metadata": {},
   "source": [
    "## Data Visualization : BinScatter Plot"
   ]
  },
  {
   "cell_type": "markdown",
   "metadata": {},
   "source": [
    "Since the goal is to investigate the relationship between gentrification intensity and downward mobility, I first prepare a table with households only from __\"gentrified\"__ neighborhoods. In other words, all observations from \"nongentrified\" and \"nongentrifiable\" neighborhoods are dropped, because they did not experience any gentrification. "
   ]
  },
  {
   "cell_type": "code",
   "execution_count": 16,
   "metadata": {
    "collapsed": true,
    "scrolled": true
   },
   "outputs": [],
   "source": [
    "mover_visual = mover_gent[(mover_gent.gent_class == \"gentrified\") ]\n",
    "#| (mover_gent.gent_class == \"nongentrified\")"
   ]
  },
  {
   "cell_type": "markdown",
   "metadata": {},
   "source": [
    "create a continuous variable \"Gentensity\" that describes the gentrification intensity between 2010 to 2015 (Originally gentrification was a binary variable)."
   ]
  },
  {
   "cell_type": "code",
   "execution_count": 17,
   "metadata": {
    "collapsed": true
   },
   "outputs": [],
   "source": [
    "\n",
    "mover_visual['gent_class'] = mover_visual['gent_class'].map(lambda x: 1 if x == 'gentrified' else 0)\n",
    "mover_visual['Gentensity'] = (mover_visual.gent_class) * ((mover_visual.MGR_1015 + mover_visual.MHV_1015)/2) \n"
   ]
  },
  {
   "cell_type": "markdown",
   "metadata": {},
   "source": [
    "Drop Observations with extreme values of \"Gentensity\"."
   ]
  },
  {
   "cell_type": "code",
   "execution_count": 18,
   "metadata": {
    "collapsed": true
   },
   "outputs": [],
   "source": [
    "mover_visual = mover_visual.loc[(mover_visual.Gentensity < 1.4) ] "
   ]
  },
  {
   "cell_type": "markdown",
   "metadata": {},
   "source": [
    "I will generate a __bin scatter plot with linear trend line__ using the \"regplot\" function in the _seaborn_ module. The variable _\"MHHIdown\"_ is a binary variable\" indicating if the household moved to a more disadvantaged neighborhood. Therefore, getting the bin-mean of _MHHIdown_ by the variable \"Gentensity\" is equivalent to calculating the probability of downward movement at each bin of gentrification intensity. I chose the number of bins to be 30. The expected result is that downward probability increases with binned gentrification intensity, and that renters have higher downward probability than homeowners.  "
   ]
  },
  {
   "cell_type": "code",
   "execution_count": 19,
   "metadata": {
    "collapsed": true
   },
   "outputs": [],
   "source": [
    "import seaborn as sns\n",
    "import matplotlib.pyplot as plt"
   ]
  },
  {
   "cell_type": "code",
   "execution_count": 20,
   "metadata": {},
   "outputs": [
    {
     "data": {
      "image/png": "[encoded data removed]",
      "text/plain": [
       "<matplotlib.figure.Figure at 0x1860a0c70f0>"
      ]
     },
     "metadata": {},
     "output_type": "display_data"
    }
   ],
   "source": [
    "\n",
    "a4_dims = (15.7, 11.27)\n",
    "fig, ax = plt.subplots(figsize=a4_dims)\n",
    "ax = sns.regplot(x = \"Gentensity\", y = \"MHHIdown\", data = mover_visual[mover_visual.OWNER_RENTER_STATUS == \"Renter\"]\n",
    "                 , fit_reg=True, x_bins=30, x_ci = 0,color='orange', label=\"Renter\") \n",
    "sns.regplot(x = \"Gentensity\", y = \"MHHIdown\", data = mover_visual[mover_visual.OWNER_RENTER_STATUS == \"Owner\"]\n",
    "                 , fit_reg=True, x_bins=30, x_ci = 0,color='blue', label=\"Owner\") \n",
    "\n",
    "ax.set_xlabel('2010-2015 Gentrification Intensity', fontsize=15)\n",
    "ax.set_ylabel('Probability of Downward Movement', fontsize=15)\n",
    "ax.set_title('Binned Scatter Plot', fontsize=18)\n",
    "ax.legend(loc='center', bbox_to_anchor=(1.05, 0.2), ncol=1, fontsize = 15)\n",
    "\n",
    "sns.despine(offset = 5, trim=True)\n",
    "plt.show()"
   ]
  },
  {
   "cell_type": "markdown",
   "metadata": {},
   "source": [
    "### Preliminary Finding from Graph"
   ]
  },
  {
   "cell_type": "markdown",
   "metadata": {},
   "source": [
    "The binscatter plot above confirms the expectation. __First__ the positive slopes of the two linear trend lines confirm that downward probability increases with gentrification intensity. __Second__, we see that renters have higher downward probability at all levels of gentrifications. \n",
    "\n",
    "However, the plot is not controlling other factors related to downward movement and has displayed only a partial effect between the two variables. To systematically investigate the relationships, we need to perform __multivariate regression__ . "
   ]
  },
  {
   "cell_type": "markdown",
   "metadata": {},
   "source": [
    "## Multivariate regression "
   ]
  },
  {
   "cell_type": "markdown",
   "metadata": {},
   "source": [
    "The goal of multivariate regression is to compare households from \"gentrified\" neighborhoods with those from \"nongentrified\" neighborhoods. The first step is to prepare a table with only these two types of households. In other words, all observations from \"nongentrifiable\" neighborhoods are dropped, because they are distinct with the other two types of households (as shown by the summary statistics above) thus not comparable. "
   ]
  },
  {
   "cell_type": "code",
   "execution_count": 21,
   "metadata": {
    "collapsed": true,
    "scrolled": true
   },
   "outputs": [],
   "source": [
    "mover_gentable = mover_gent[mover_gent.gent_class != \"nongentrifiable\"]"
   ]
  },
  {
   "cell_type": "markdown",
   "metadata": {},
   "source": [
    "Factorize the year variable and create a continuous variable \"Gentensity\" that describes the gentrification intensity between 2010 to 2015. Later I will further convert the continuous variable into three categories \"low\", \"medium\" and \"high\" using the __quantile cut__ function in pandas. The series \"Gent_Inten\" is for temporary manipulation. "
   ]
  },
  {
   "cell_type": "code",
   "execution_count": 22,
   "metadata": {
    "collapsed": true
   },
   "outputs": [],
   "source": [
    "mover_gentable['YearOnly'] = mover_gentable.YearOnly.apply(str)\n",
    "\n",
    "mover_gentable['gent_class'] = mover_gentable['gent_class'].map(lambda x: 1 if x == 'gentrified' else 0)\n",
    "mover_gentable['Gentensity'] = (mover_gentable.gent_class) * ((mover_gentable.MGR_1015 + mover_gentable.MHV_1015)/2) \n",
    "\n",
    "Gent_Inten = mover_gentable.Gentensity"
   ]
  },
  {
   "cell_type": "markdown",
   "metadata": {},
   "source": [
    "Replace all zeroes in the series Gent_Inten with NaN. __The reason is that zero should not enter the quantile cut function.__"
   ]
  },
  {
   "cell_type": "code",
   "execution_count": 23,
   "metadata": {
    "collapsed": true,
    "scrolled": true
   },
   "outputs": [],
   "source": [
    "Gent_Inten = Gent_Inten.replace(0, np.NaN)"
   ]
  },
  {
   "cell_type": "markdown",
   "metadata": {},
   "source": [
    "Now creates the categorical metric of gentrification based on __quartile-cutting__ the continous gentrification metric. Combine the 2nd and 3rd quartiles to be the \"medium\" category"
   ]
  },
  {
   "cell_type": "code",
   "execution_count": 24,
   "metadata": {
    "collapsed": true
   },
   "outputs": [],
   "source": [
    "\n",
    "Gent_Inten = pd.qcut(Gent_Inten, 4, labels = [\"low\",\"med\",\"med2\",\"high\"])\n",
    "\n",
    "Gent_Inten = Gent_Inten.replace('med2', 'med')\n",
    "\n",
    "Gent_Inten = Gent_Inten.replace(np.NaN, \"nongented\")\n",
    "\n",
    "mover_gentable['Gentensity'] = Gent_Inten\n"
   ]
  },
  {
   "cell_type": "markdown",
   "metadata": {},
   "source": [
    "#### Perform multivariate regression. \"Gentensity\" is the categorical variable for gentrification intensity. "
   ]
  },
  {
   "cell_type": "code",
   "execution_count": 26,
   "metadata": {
    "collapsed": true
   },
   "outputs": [],
   "source": [
    "lm_cnt_gent = smf.ols(formula='MHHIdown ~ +\\\n",
    "C(OWNER_RENTER_STATUS, Treatment(reference=\"Owner\"))*C(Gentensity, Treatment(reference=\"nongented\")) +\\\n",
    "             YearOnly + HEAD_HH_AGE_CODE + MARITAL_STATUS + HSize   + FIND_DIV_1000  + PrevLOR', data=mover_gentable).fit()\n"
   ]
  },
  {
   "cell_type": "markdown",
   "metadata": {},
   "source": [
    "#### Use Stargazer function to display the regression results "
   ]
  },
  {
   "cell_type": "code",
   "execution_count": 31,
   "metadata": {
    "scrolled": false
   },
   "outputs": [
    {
     "data": {
      "text/html": [
       "<table style=\"text-align:center\"><tr><td colspan=\"2\" style=\"border-bottom: 1px solid black\"></td></tr><tr><td style=\"text-align:left\"></td><td colspan=\"1\"><em>Dep Var: Downward Move (Dummy)</em></td></tr><tr><td style=\"text-align:left\"></td><tr><td style=\"text-align:left\"></td><td>(1)</td></tr><tr><td colspan=\"2\" style=\"border-bottom: 1px solid black\"></td></tr><tr><td style=\"text-align:left\">High Gentrification</td><td>0.083<sup>***</sup></td></tr><tr><td style=\"text-align:left\"></td><td>(0.02)</td></tr><tr><td style=\"text-align:left\">Medium Gentrification</td><td>-0.016<sup></sup></td></tr><tr><td style=\"text-align:left\"></td><td>(0.014)</td></tr><tr><td style=\"text-align:left\">Low Gentrification</td><td>-0.006<sup></sup></td></tr><tr><td style=\"text-align:left\"></td><td>(0.019)</td></tr><tr><td style=\"text-align:left\">Renter (Dummy)</td><td>0.144<sup>***</sup></td></tr><tr><td style=\"text-align:left\"></td><td>(0.006)</td></tr><tr><td style=\"text-align:left\">Renter*High</td><td>-0.054<sup></sup></td></tr><tr><td style=\"text-align:left\"></td><td>(0.042)</td></tr><tr><td style=\"text-align:left\">Renter*Medium</td><td>-0.01<sup></sup></td></tr><tr><td style=\"text-align:left\"></td><td>(0.025)</td></tr><tr><td style=\"text-align:left\">Renter*Low</td><td>-0.06<sup></sup></td></tr><tr><td style=\"text-align:left\"></td><td>(0.038)</td></tr><td colspan=\"2\" style=\"border-bottom: 1px solid black\"></td></tr><tr><td style=\"text-align: left\">Observations</td><td>27834.0</td></tr><tr><td style=\"text-align: left\">R<sup>2</sup></td><td>0.108</td></tr><tr><td style=\"text-align: left\">Adjusted R<sup>2</sup></td><td>0.108</td></tr><tr><td style=\"text-align: left\">Residual Std. Error</td><td>0.394(df = 27806.0)</td></tr><tr><td style=\"text-align: left\">F Statistic</td><td>125.304<sup>***</sup>(df = 27.0; 27806.0)</td></tr><tr><td colspan=\"2\" style=\"border-bottom: 1px solid black\"></td></tr><tr><td style=\"text-align: left\">Note:</td><td colspan=\"1\" style=\"text-align: right\"><em>p&lt;0.1</em>; <b>p&lt;0.05</b>; p&lt;0.01</td></tr></table>"
      ],
      "text/plain": [
       "<IPython.core.display.HTML object>"
      ]
     },
     "metadata": {},
     "output_type": "display_data"
    },
    {
     "name": "stdout",
     "output_type": "stream",
     "text": [
      "None\n"
     ]
    }
   ],
   "source": [
    "stargazer = Stargazer([lm_cnt_gent])\n",
    "\n",
    "stargazer.covariate_order(['C(Gentensity, Treatment(reference=\"nongented\"))[T.high]',\\\n",
    "'C(Gentensity, Treatment(reference=\"nongented\"))[T.med]',\\\n",
    "'C(Gentensity, Treatment(reference=\"nongented\"))[T.low]', \\\n",
    "'C(OWNER_RENTER_STATUS, Treatment(reference=\"Owner\"))[T.Renter]',\\\n",
    "'C(OWNER_RENTER_STATUS, Treatment(reference=\"Owner\"))[T.Renter]:C(Gentensity, \\\n",
    "Treatment(reference=\"nongented\"))[T.high]',\\\n",
    "'C(OWNER_RENTER_STATUS, Treatment(reference=\"Owner\"))[T.Renter]:C(Gentensity, \\\n",
    "Treatment(reference=\"nongented\"))[T.med]',\\\n",
    "'C(OWNER_RENTER_STATUS, Treatment(reference=\"Owner\"))[T.Renter]:C(Gentensity, \\\n",
    "Treatment(reference=\"nongented\"))[T.low]'                          \n",
    "                          ])\n",
    "\n",
    "stargazer.rename_covariates({'C(Gentensity, Treatment(reference=\"nongented\"))[T.high]': 'High Gentrification',\\\n",
    "'C(Gentensity, Treatment(reference=\"nongented\"))[T.med]': 'Medium Gentrification',\\\n",
    "'C(Gentensity, Treatment(reference=\"nongented\"))[T.low]': 'Low Gentrification',\\\n",
    "'C(OWNER_RENTER_STATUS, Treatment(reference=\"Owner\"))[T.Renter]':'Renter (Dummy)',\\\n",
    "'C(OWNER_RENTER_STATUS, Treatment(reference=\"Owner\"))[T.Renter]:C(Gentensity, \\\n",
    "Treatment(reference=\"nongented\"))[T.high]':'Renter*High',\\\n",
    "'C(OWNER_RENTER_STATUS, Treatment(reference=\"Owner\"))[T.Renter]:C(Gentensity, \\\n",
    "Treatment(reference=\"nongented\"))[T.med]':'Renter*Medium',\n",
    "'C(OWNER_RENTER_STATUS, Treatment(reference=\"Owner\"))[T.Renter]:C(Gentensity, \\\n",
    "Treatment(reference=\"nongented\"))[T.low]':'Renter*Low',\n",
    "                           })\n",
    "\n",
    "stargazer.dependent_variable_name('Dep Var: Downward Move (Dummy)')\n",
    "b=stargazer.render_html()\n",
    "print(display(HTML(b)))"
   ]
  },
  {
   "cell_type": "markdown",
   "metadata": {},
   "source": [
    "### Result Interpretation"
   ]
  },
  {
   "cell_type": "markdown",
   "metadata": {},
   "source": [
    "The results answer the four questions raised at the beginning of this document, and confirm the findings of the binscatter plot. __Firstly__, we see that low- to medium- levels of gentrification do not induce households to move to more disadvantaged neighborhoods, but high levels of gentrification does. Specifically, coming from a highly gentrified neighborhood raises the probability of downward movement by __8.3__ percentage points. __Secondly__, we see that renters on average are __14.4__ more percentage points more likely to experience downward movement than homeowners. __To summarize__, the finding confirm the expectation that gentrification induces downward movements, and it impacts renters more than homeowners. "
   ]
  }
 ],
 "metadata": {
  "kernelspec": {
   "display_name": "Python 3",
   "language": "python",
   "name": "python3"
  },
  "language_info": {
   "codemirror_mode": {
    "name": "ipython",
    "version": 3
   },
   "file_extension": ".py",
   "mimetype": "text/x-python",
   "name": "python",
   "nbconvert_exporter": "python",
   "pygments_lexer": "ipython3",
   "version": "3.6.1"
  }
 },
 "nbformat": 4,
 "nbformat_minor": 2
}
